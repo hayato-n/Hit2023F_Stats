{
 "cells": [
  {
   "cell_type": "code",
   "execution_count": 1,
   "metadata": {},
   "outputs": [],
   "source": [
    "import numpy as np\n",
    "import matplotlib.pyplot as plt\n",
    "from scipy import stats, optimize\n",
    "\n",
    "plt.rcParams[\"font.family\"] =\"IPAexGothic\"\n",
    "N = 100"
   ]
  },
  {
   "cell_type": "code",
   "execution_count": 3,
   "metadata": {},
   "outputs": [
    {
     "data": {
      "image/png": "[encoded data removed]",
      "text/plain": [
       "<Figure size 640x480 with 1 Axes>"
      ]
     },
     "metadata": {},
     "output_type": "display_data"
    }
   ],
   "source": [
    "# 真のパラメータ\n",
    "mu0, s0 = 5, 10\n",
    "\n",
    "rng = np.random.default_rng(123)\n",
    "x = rng.normal(loc=mu0, scale=np.sqrt(s0), size=N)\n",
    "\n",
    "plt.hist(x, bins=10)\n",
    "plt.show()"
   ]
  },
  {
   "cell_type": "code",
   "execution_count": 8,
   "metadata": {},
   "outputs": [],
   "source": [
    "def print_result(mu, s2):\n",
    "    print(f\"mu = {mu} (true = {mu0})\")\n",
    "    print(f\"var = {s2} (true = {s0})\")"
   ]
  },
  {
   "cell_type": "code",
   "execution_count": 10,
   "metadata": {},
   "outputs": [
    {
     "name": "stdout",
     "output_type": "stream",
     "text": [
      "11.4 µs ± 782 ns per loop (mean ± std. dev. of 7 runs, 100,000 loops each)\n",
      "mu = 5.2590375320160785 (true = 5)\n",
      "var = 8.010277716636821 (true = 10)\n"
     ]
    }
   ],
   "source": [
    "# 最尤推定量（解析的な公式を使用）\n",
    "def analytical(x):\n",
    "    return np.sum(x)/len(x), np.sum(np.square(x-np.sum(x)/len(x)))/len(x)\n",
    "\n",
    "%timeit analytical(x)\n",
    "\n",
    "mu, s2 = analytical(x)\n",
    "\n",
    "print_result(mu, s2)\n"
   ]
  },
  {
   "cell_type": "code",
   "execution_count": 12,
   "metadata": {},
   "outputs": [
    {
     "name": "stdout",
     "output_type": "stream",
     "text": [
      "26.6 ms ± 744 µs per loop (mean ± std. dev. of 7 runs, 10 loops each)\n",
      "mu = 5.259037004486195 (true = 5)\n",
      "var = 8.010277806317939 (true = 10)\n"
     ]
    }
   ],
   "source": [
    "# BFGS法（準ニュートン法）\n",
    "def bfgs(x):\n",
    "    # 対数尤度の符号反転(paramsは平均と標準偏差の平方根)\n",
    "    nll = lambda params: -np.sum(stats.norm(loc=params[0], scale=np.square(params[1])).logpdf(x))\n",
    "    rslt = optimize.minimize(nll, x0=[0,1], method=\"bfgs\")\n",
    "\n",
    "    return rslt.x[0], rslt.x[1]**4\n",
    "\n",
    "%timeit bfgs(x)\n",
    "\n",
    "mu, s2 = bfgs(x)\n",
    "\n",
    "print_result(mu, s2)\n"
   ]
  },
  {
   "cell_type": "code",
   "execution_count": 14,
   "metadata": {},
   "outputs": [
    {
     "name": "stdout",
     "output_type": "stream",
     "text": [
      "92.1 ms ± 5.38 ms per loop (mean ± std. dev. of 7 runs, 10 loops each)\n",
      "mu = 5.259037004486195 (true = 5)\n",
      "var = 8.010277806317939 (true = 10)\n"
     ]
    }
   ],
   "source": [
    "# Nelder-Mead法\n",
    "def nm(x):\n",
    "    # 対数尤度の符号反転(paramsは平均と標準偏差の平方根)\n",
    "    nll = lambda params: -np.sum(stats.norm(loc=params[0], scale=np.square(params[1])).logpdf(x))\n",
    "    rslt = optimize.minimize(nll, x0=[0,1], method=\"nelder-mead\")\n",
    "\n",
    "    return rslt.x[0], rslt.x[1]**4\n",
    "\n",
    "%timeit nm(x)\n",
    "\n",
    "mu, s2 = bfgs(x)\n",
    "\n",
    "print_result(mu, s2)\n"
   ]
  }
 ],
 "metadata": {
  "kernelspec": {
   "display_name": "main",
   "language": "python",
   "name": "python3"
  },
  "language_info": {
   "codemirror_mode": {
    "name": "ipython",
    "version": 3
   },
   "file_extension": ".py",
   "mimetype": "text/x-python",
   "name": "python",
   "nbconvert_exporter": "python",
   "pygments_lexer": "ipython3",
   "version": "3.8.15"
  },
  "orig_nbformat": 4
 },
 "nbformat": 4,
 "nbformat_minor": 2
}
